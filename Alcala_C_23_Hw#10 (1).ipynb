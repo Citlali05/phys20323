{
 "cells": [
  {
   "cell_type": "markdown",
   "metadata": {},
   "source": [
    "# Phyiscs Problems - Lectures 22 & 23 - Homework 10\n",
    "\n",
    "FALL 2024\n"
   ]
  },
  {
   "cell_type": "markdown",
   "metadata": {},
   "source": [
    "### 1) Altitude of a satellite\n",
    "\n",
    "A satellite is to be launched into a circular orbit around the Earth so that it orbits the planet once every T seconds.\n",
    "\n",
    "The altitude h above the Earth’s surface that the satellite must have is:\n",
    "\n",
    "$$h = \\left( \\frac{G M T^2}{4\\pi^2} \\right)^{1/3} - R$$\n",
    "\n",
    "where $G = 6.67 \\times 10^{-11}$ m$^3$ kg$^{-1}$ s$^{-2}$\n",
    "is Newton's gravitational constant, $M = 5.97 \\times 10^{24}$ kg is the mass of the Earth, and $R = 6371$ km is its radius.\n",
    "\n",
    "#### Write a function that asks the user to enter the desired value of T and then calculates and prints out the correct altitude in meters.\n"
   ]
  },
  {
   "cell_type": "code",
   "execution_count": 222,
   "metadata": {},
   "outputs": [
    {
     "name": "stdin",
     "output_type": "stream",
     "text": [
      "Enter the desired value of T:  6000\n"
     ]
    },
    {
     "name": "stdout",
     "output_type": "stream",
     "text": [
      "763238.8150119483 meters\n"
     ]
    }
   ],
   "source": [
    "import math\n",
    "\n",
    "def altitude(T):\n",
    "    G = 6.67 * 10**-11  \n",
    "    M = 5.97 * 10**24   \n",
    "    R = 6371 * 10**3\n",
    "    h = ((G * M * T**2) / (4 * math.pi**2))**(1/3)\n",
    "    h_1 = h - R  \n",
    "    return h_1\n",
    "\n",
    "\n",
    "T_1 = float(input(\"Enter the desired value of T: \"))\n",
    "alt = altitude(T_1)\n",
    "\n",
    "if alt < 0:\n",
    "    print(\"The orbital period is too small to calculate\")\n",
    "else:\n",
    "    print( alt, \"meters\")"
   ]
  },
  {
   "cell_type": "markdown",
   "metadata": {},
   "source": [
    "Use your program to calculate the altitudes of satellites that orbit the Earth once\n",
    "a day (so-called “geosynchronous” orbit), once every 90 minutes, and once every\n",
    "45 minutes. What do you conclude from the last of these calculations?\n",
    "\n",
    "\n",
    "\n"
   ]
  },
  {
   "cell_type": "code",
   "execution_count": 230,
   "metadata": {},
   "outputs": [
    {
     "name": "stdout",
     "output_type": "stream",
     "text": [
      "24 hours: Altitude = 35855910.17617497 ; 90 min: Altitude = 279321.62537285965 ;  45 min: Altitude = -2181559.8978108233\n"
     ]
    }
   ],
   "source": [
    "import math\n",
    "\n",
    "def altitude(T):\n",
    "    G = 6.67 * 10**-11  \n",
    "    M = 5.97 * 10**24   \n",
    "    R = 6371 * 10**3     \n",
    "    h = ((G * M * T**2) / (4 * math.pi**2))**(1/3) \n",
    "    h_1 = h - R       \n",
    "    return h_1\n",
    "\n",
    "#minutes in seconds !!\n",
    "geosync = 86400 #24 hrs \n",
    "hourhalf = 5400\n",
    "min45 = 2700\n",
    "\n",
    "print(\"24 hours: Altitude =\",altitude(geosync), \"; 90 min: Altitude =\",altitude(hourhalf),\n",
    "      \";  45 min: Altitude =\",altitude(min45))"
   ]
  },
  {
   "cell_type": "markdown",
   "metadata": {},
   "source": [
    "Technically a geosynchronous satellite is one that orbits the Earth once persidereal\n",
    "day, which is 23.93 hours, not 24 hours. Why is this? And how much difference\n",
    "will it make to the altitude of the satellite?"
   ]
  },
  {
   "cell_type": "code",
   "execution_count": 242,
   "metadata": {},
   "outputs": [
    {
     "name": "stdout",
     "output_type": "stream",
     "text": [
      "24 hours: Altitude = 35855910.17617497 ; 90 min: Altitude = 35855910.17617497\n"
     ]
    }
   ],
   "source": [
    "persidereal = 86400\n",
    "\n",
    "print(\"24 hours: Altitude =\",altitude(geosync), \"; 90 min: Altitude =\",altitude(persidereal))"
   ]
  },
  {
   "cell_type": "markdown",
   "metadata": {},
   "source": [
    "#### Modify your code to calculate the times from 0.5 hour  to 30 days, in steps of 0.5 hours.   Then plot those data points (time vs h) with properly labled axes.  Plot orbits with height below 0 as red, and plots positive heeghts with times less than geosynchronous in blue and those longer in green."
   ]
  },
  {
   "cell_type": "code",
   "execution_count": 252,
   "metadata": {},
   "outputs": [
    {
     "data": {
      "image/png": "[encoded data removed]",
      "text/plain": [
       "<Figure size 1000x600 with 1 Axes>"
      ]
     },
     "metadata": {},
     "output_type": "display_data"
    }
   ],
   "source": [
    "import math\n",
    "import matplotlib.pyplot as plt\n",
    "\n",
    "\n",
    "def altitude(T):\n",
    "    G = 6.67 * 10**-11 \n",
    "    M = 5.97 * 10**24 \n",
    "    R = 6371 * 10**3    \n",
    "    h = ((G * M * T**2) / (4 * math.pi**2))**(1/3)  \n",
    "    h_1 = h - R         \n",
    "    return h_1\n",
    "\n",
    "\n",
    "start_time = 0.5 \n",
    "end_time = 30 * 24  \n",
    "step = 0.5 \n",
    "\n",
    "times = []\n",
    "altitudes = []\n",
    "\n",
    "for T in range(int(start_time * 2), int(end_time * 2) + 1):  \n",
    "    T_hours = T / 2  # hours\n",
    "    T_seconds = T_hours * 3600  #time to seconds \n",
    "    times.append(T_hours)\n",
    "    altitudes.append(altitude(T_seconds))\n",
    "\n",
    "\n",
    "plt.figure(figsize=(10, 6))\n",
    "\n",
    "\n",
    "for t, alt in zip(times, altitudes):\n",
    "    if alt < 0:  \n",
    "        plt.scatter(t, alt, color='red')\n",
    "    elif t < 24:  \n",
    "        plt.scatter(t, alt, color='blue')\n",
    "    else:  \n",
    "        plt.scatter(t, alt, color='green')\n",
    "\n",
    "\n",
    "plt.xlabel('Time', fontsize=12)\n",
    "plt.ylabel('Altitude(height) ', fontsize=12)\n",
    "\n",
    "\n",
    "# Show the plot\n",
    "plt.show()\n"
   ]
  },
  {
   "cell_type": "markdown",
   "metadata": {},
   "source": [
    "### 2) Special Relativity\n",
    "\n",
    "A spaceship travels from Earth in a straight line at a (relativistic)\n",
    "speed $v$ to another planet $x$ light years away. Write a program to ask\n",
    "the user for the value of $x$ and the speed $v$ as a fraction of the speed\n",
    "of light, then print out the time in years that the spaceship takes to\n",
    "reach its destination (a) in the rest frame of an observer on Earth\n",
    "and (b) as perceived by a passenger on board the ship.\n",
    "\n",
    "$$x' = \\gamma (x - vt)$$\n",
    "\n",
    "$$t' = \\gamma \\left(t - \\frac{v x}{c^2}\\right)$$\n",
    "\n",
    "$$\\gamma = \\frac{1}{\\sqrt{1 - \\frac{v^2}{c^2}}}$$\n"
   ]
  },
  {
   "cell_type": "code",
   "execution_count": 281,
   "metadata": {},
   "outputs": [
    {
     "name": "stdin",
     "output_type": "stream",
     "text": [
      "Enter the distance in light years:  99999\n",
      "Enter the speed of the spaceship as a fraction (v/c):  99999\n"
     ]
    },
    {
     "name": "stdout",
     "output_type": "stream",
     "text": [
      "Speed must be less than the speed of light.\n"
     ]
    }
   ],
   "source": [
    "import math\n",
    "\n",
    "def lorentz_factor(v):\n",
    "    return 1 / math.sqrt(1 - v**2)\n",
    "\n",
    "def time_earth(x, v):\n",
    "    return x / v\n",
    "\n",
    "def time_spaceship(x, v, t_earth):\n",
    "    gamma = lorentz_factor(v)\n",
    " \n",
    "    t_spaceship = gamma * (t_earth - (v * x) / 1)  # c =1\n",
    "    return t_spaceship\n",
    "\n",
    "\n",
    "def main():\n",
    " \n",
    "    x = float(input(\"Enter the distance in light years: \"))\n",
    "    v = float(input(\"Enter the speed of the spaceship as a fraction (v/c): \"))\n",
    "    \n",
    " \n",
    "    if v < 0 or v >= 1:\n",
    "        print(\"Speed must be less than the speed of light.\")\n",
    "        return\n",
    "    \n",
    "    t_earth = time_earth(x, v)\n",
    "    t_spaceship = time_spaceship(x, v, t_earth)\n",
    "    \n",
    "\n",
    "    print(f\"\\nTime in the rest frame of the Earth observer: {t_earth:.2f} years\")\n",
    "    print(f\"Time as perceived by the passenger on the spaceship: {t_spaceship:.2f} years\")\n",
    "\n",
    "\n",
    "if __name__==\"__main__\":\n",
    "    main()\n"
   ]
  },
  {
   "cell_type": "markdown",
   "metadata": {},
   "source": [
    "#### Use your program to calculate the answers for a planet 10 light years away with $v = 0.90c$,  $v = 0.98c$, $v = 0.999c$."
   ]
  },
  {
   "cell_type": "code",
   "execution_count": 323,
   "metadata": {},
   "outputs": [
    {
     "name": "stdout",
     "output_type": "stream",
     "text": [
      "For v 0.9\n",
      "rest frame of the Earth observer 11.11111111111111 years\n",
      "Time as perceived by the passenger on the spaceship: 4.84 years\n",
      "For v 0.98\n",
      "rest frame of the Earth observer 10.204081632653061 years\n",
      "Time as perceived by the passenger on the spaceship: 2.03 years\n",
      "For v 0.999\n",
      "rest frame of the Earth observer 10.01001001001001 years\n",
      "Time as perceived by the passenger on the spaceship: 0.45 years\n"
     ]
    }
   ],
   "source": [
    "import math\n",
    "\n",
    "x = 10  # 10 light years\n",
    "velocities  = [0.9, 0.98, 0.999]\n",
    "\n",
    "for v in velocities:\n",
    "    \n",
    "    gamma = 1 / math.sqrt(1 - v**2)\n",
    "    t_earth = x / v\n",
    "    t_spaceship = gamma * (t_earth - v * x)\n",
    "\n",
    "    print( 'For v', v)\n",
    "    print(\"rest frame of the Earth observer\", t_earth, \"years\")\n",
    "    print(f\"Time as perceived by the passenger on the spaceship: {t_spaceship:.2f} years\")\n"
   ]
  },
  {
   "cell_type": "markdown",
   "metadata": {},
   "source": [
    "### 3) The quadratic equation\n",
    "\n",
    " Write a program that takes as input three numbers, $a$, $b$, and $c$, and prints out the two solutions to the quadratic equation $ax^2 + bx + c = 0$ using the standard\n",
    "formula:\n",
    "\n",
    "$$x = \\frac{-b \\pm \\sqrt{b^2 - 4ac}}{2a}$$\n",
    "\n",
    "Use your program to compute the solutions of $0.001x^2 + 1000x + 0.001 = 0$."
   ]
  },
  {
   "cell_type": "code",
   "execution_count": 3,
   "metadata": {},
   "outputs": [
    {
     "name": "stdout",
     "output_type": "stream",
     "text": [
      "(-9.999894245993346e-07, -999999.999999)\n"
     ]
    }
   ],
   "source": [
    "import math \n",
    "\n",
    "a= float(0.001)\n",
    "\n",
    "b= int(1000)\n",
    "\n",
    "c= float(0.001)\n",
    "\n",
    "x_1= (-b + math.sqrt(b**2 - 4*a*c)) / (2 * a)\n",
    "\n",
    "x_2= (-b - math.sqrt(b**2 - 4*a*c)) / (2 * a)\n",
    "\n",
    "solution= x_1 , x_2\n",
    "print(solution)"
   ]
  },
  {
   "cell_type": "markdown",
   "metadata": {},
   "source": [
    "There is another way to write the solutions to a quadratic equation. Multiplying top and bottom of the solution above by $-b \\mp \\sqrt{b^2 - 4ac}$, show that the solutions\n",
    "can also be written as:\n",
    "\n",
    "$$x = \\frac{2c}{-b \\mp \\sqrt{b^2 - 4ac}}$$\n",
    "\n",
    "Add further lines to your program to print these values in addition to the earlier ones and again use the program to solve $0.001x^2 + 1000x + 0.001 = 0$. What do you see? How do you explain it?"
   ]
  },
  {
   "cell_type": "code",
   "execution_count": 103,
   "metadata": {},
   "outputs": [
    {
     "name": "stdout",
     "output_type": "stream",
     "text": [
      "(-1.000000000001e-06, -1000010.5755125057)\n"
     ]
    }
   ],
   "source": [
    "import math \n",
    "\n",
    "a= float(0.001)\n",
    "\n",
    "b= int(1000)\n",
    "\n",
    "c= float(0.001)\n",
    "\n",
    "x_1= (2*c) / (-b - math.sqrt(b**2 - 4*a*c))\n",
    "\n",
    "x_2= (2*c) / (-b + math.sqrt(b**2 - 4*a*c))\n",
    "\n",
    "solution= x_1, x_2\n",
    "\n",
    "print(solution)"
   ]
  },
  {
   "cell_type": "markdown",
   "metadata": {},
   "source": [
    "Using what you have learned, write a new program that calculates both roots of a quadratic equation accurately in all cases. \n",
    "\n",
    "__(NOTE: MANY Online quadratic equation are WRONG, so careful how you check!!!).__"
   ]
  },
  {
   "cell_type": "code",
   "execution_count": 101,
   "metadata": {},
   "outputs": [
    {
     "name": "stdin",
     "output_type": "stream",
     "text": [
      "want to use regular formula?:  yes\n"
     ]
    },
    {
     "name": "stdout",
     "output_type": "stream",
     "text": [
      "(-9.999894245993346e-07, -999999.999999)\n"
     ]
    }
   ],
   "source": [
    "import math\n",
    "\n",
    "\n",
    "a = float(0.001)\n",
    "b = int(1000)\n",
    "c = float(0.001)\n",
    "\n",
    "\n",
    "option = input(\"want to use regular formula?: \")\n",
    "\n",
    "if option == 'yes':\n",
    "    x_1= (-b + math.sqrt(b**2 - 4*a*c)) / (2 * a)\n",
    "    x_2= (-b - math.sqrt(b**2 - 4*a*c)) / (2 * a)\n",
    "    \n",
    "elif option == 'no':\n",
    "    x_1= (2*c) / (-b - math.sqrt(b**2 - 4*a*c))\n",
    "    x_2= (2*c) / (-b + math.sqrt(b**2 - 4*a*c))\n",
    "\n",
    "\n",
    "solution= x_1, x_2\n",
    "\n",
    "print(solution)\n",
    "\n"
   ]
  },
  {
   "cell_type": "code",
   "execution_count": null,
   "metadata": {},
   "outputs": [],
   "source": []
  }
 ],
 "metadata": {
  "kernelspec": {
   "display_name": "Python 3 (ipykernel)",
   "language": "python",
   "name": "python3"
  },
  "language_info": {
   "codemirror_mode": {
    "name": "ipython",
    "version": 3
   },
   "file_extension": ".py",
   "mimetype": "text/x-python",
   "name": "python",
   "nbconvert_exporter": "python",
   "pygments_lexer": "ipython3",
   "version": "3.12.4"
  }
 },
 "nbformat": 4,
 "nbformat_minor": 4
}
